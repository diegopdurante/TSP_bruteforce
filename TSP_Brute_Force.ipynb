{
 "cells": [
  {
   "cell_type": "code",
   "execution_count": 1,
   "metadata": {},
   "outputs": [],
   "source": [
    "import numpy as np\n",
    "import pandas as pd\n",
    "from scipy.optimize import linprog\n",
    "\n",
    "import matplotlib.pyplot as plt\n",
    "\n",
    "from mis_utils import *\n",
    "\n",
    "pd.options.display.max_columns = None\n",
    "pd.options.display.max_rows = None\n",
    "pd.options.display.latex.repr = True\n",
    "import itertools\n",
    "import math"
   ]
  },
  {
   "cell_type": "code",
   "execution_count": 2,
   "metadata": {},
   "outputs": [],
   "source": [
    "num_cities = 9\n",
    "dist_max = 100"
   ]
  },
  {
   "cell_type": "code",
   "execution_count": 3,
   "metadata": {},
   "outputs": [],
   "source": [
    "cities_location = (np.random.random_sample((num_cities, 2))*dist_max)"
   ]
  },
  {
   "cell_type": "code",
   "execution_count": 4,
   "metadata": {},
   "outputs": [],
   "source": [
    "node_names = np.zeros((num_cities), dtype = str) #='<S3')"
   ]
  },
  {
   "cell_type": "code",
   "execution_count": 5,
   "metadata": {},
   "outputs": [],
   "source": [
    "for i in range(ord('a'), ord('a') + num_cities):\n",
    "    node_names[i - ord('a')] = (chr(i))"
   ]
  },
  {
   "cell_type": "code",
   "execution_count": 6,
   "metadata": {},
   "outputs": [
    {
     "data": {
      "image/png": "[encoded data removed]",
      "text/plain": [
       "<Figure size 432x288 with 1 Axes>"
      ]
     },
     "metadata": {
      "needs_background": "light"
     },
     "output_type": "display_data"
    }
   ],
   "source": [
    "plt.scatter(cities_location[:, 0], cities_location[:, 1])\n",
    "plt.xlim(-dist_max*0.1, dist_max*1.1)\n",
    "plt.ylim(-dist_max*0.1, dist_max*1.1)\n",
    "plt.show()"
   ]
  },
  {
   "cell_type": "code",
   "execution_count": 7,
   "metadata": {},
   "outputs": [
    {
     "data": {
      "text/plain": [
       "['a', 'b', 'c', 'd', 'e', 'f', 'g', 'h', 'i']"
      ]
     },
     "execution_count": 7,
     "metadata": {},
     "output_type": "execute_result"
    }
   ],
   "source": [
    "list(node_names)"
   ]
  },
  {
   "cell_type": "code",
   "execution_count": 8,
   "metadata": {},
   "outputs": [],
   "source": [
    "cities = []\n",
    "\n",
    "comb_of_travels = []\n",
    "\n",
    "for i in range(num_cities):\n",
    "    cities.append(i)\n",
    "perm = itertools.permutations(cities) \n",
    "  \n",
    "for i in list(perm): \n",
    "    comb_of_travels.append(i)"
   ]
  },
  {
   "cell_type": "code",
   "execution_count": 9,
   "metadata": {},
   "outputs": [],
   "source": [
    "def cost_to_travel(cities, idx1, idx2):\n",
    "    return math.sqrt(pow(cities[idx1,0]-cities[idx2,0], 2)+ pow(cities[idx1,1]-cities[idx2,1], 2))"
   ]
  },
  {
   "cell_type": "code",
   "execution_count": 10,
   "metadata": {},
   "outputs": [],
   "source": [
    "cost_max = float(\"inf\")\n",
    "\n",
    "path_best_cost = []\n",
    "\n",
    "step = 0\n",
    "\n",
    "for each_travel in comb_of_travels:\n",
    "    cost_for_this_travel = 0\n",
    "    step = step + 1\n",
    "    for j in range(-1, len(each_travel) - 1):\n",
    "        cost_for_this_travel = cost_for_this_travel + cost_to_travel(cities_location, each_travel[j], each_travel[j+1])\n",
    "#         print(cost_to_travel(cities_location, each_travel[j], each_travel[j+1]))\n",
    "    if cost_for_this_travel < cost_max:\n",
    "        cost_max = cost_for_this_travel\n",
    "#         print(\"Candidate: \", each_travel, cost_max)\n",
    "        path_best_cost = list(each_travel).copy()"
   ]
  },
  {
   "cell_type": "code",
   "execution_count": 11,
   "metadata": {},
   "outputs": [
    {
     "data": {
      "text/plain": [
       "[1, 6, 0, 2, 3, 8, 5, 7, 4]"
      ]
     },
     "execution_count": 11,
     "metadata": {},
     "output_type": "execute_result"
    }
   ],
   "source": [
    "path_best_cost"
   ]
  },
  {
   "cell_type": "code",
   "execution_count": 12,
   "metadata": {},
   "outputs": [
    {
     "data": {
      "image/png": "[encoded data removed]",
      "text/plain": [
       "<Figure size 432x288 with 1 Axes>"
      ]
     },
     "metadata": {
      "needs_background": "light"
     },
     "output_type": "display_data"
    }
   ],
   "source": [
    "for i in range(-1, len(path_best_cost)-1):\n",
    "    idx_from = path_best_cost[i]\n",
    "    idx_to = path_best_cost[i+1]\n",
    "\n",
    "    plt.plot(np.array([cities_location[idx_from, 0], cities_location[idx_to, 0]]), np.array([cities_location[idx_from, 1], cities_location[idx_to, 1]]))\n",
    "    plt.plot(np.array([cities_location[idx_from, 0], cities_location[idx_to, 0]]), np.array([cities_location[idx_from, 1], cities_location[idx_to, 1]]), 'o')\n",
    "\n",
    "plt.xlim(-dist_max*0.1, dist_max*1.1)\n",
    "plt.ylim(-dist_max*0.1, dist_max*1.1)\n",
    "plt.title(\"TSP - Result for optimal path: \" + str(path_best_cost) + \"\\nCost: \" + str(cost_max))\n",
    "plt.show()"
   ]
  },
  {
   "cell_type": "code",
   "execution_count": 13,
   "metadata": {},
   "outputs": [
    {
     "name": "stdout",
     "output_type": "stream",
     "text": [
      "Program runned in 362880 steps and cost is 283.88267854189627\n"
     ]
    }
   ],
   "source": [
    "print(\"Program runned in\", step, \"steps and cost is\",  cost_max)"
   ]
  },
  {
   "cell_type": "code",
   "execution_count": 14,
   "metadata": {},
   "outputs": [],
   "source": [
    "cost_max = float(\"inf\")\n",
    "\n",
    "path_best_cost = []\n",
    "\n",
    "step = 0\n",
    "\n",
    "for each_travel in comb_of_travels:\n",
    "    if(each_travel[0]!=0):\n",
    "        continue\n",
    "    cost_for_this_travel = 0\n",
    "    step = step + 1\n",
    "    for j in range(-1, len(each_travel) - 1):\n",
    "        cost_for_this_travel = cost_for_this_travel + cost_to_travel(cities_location, each_travel[j], each_travel[j+1])\n",
    "#         print(cost_to_travel(cities_location, each_travel[j], each_travel[j+1]))\n",
    "    if cost_for_this_travel < cost_max:\n",
    "        cost_max = cost_for_this_travel\n",
    "#         print(\"Candidate: \", each_travel, cost_max)\n",
    "        path_best_cost = list(each_travel).copy()"
   ]
  },
  {
   "cell_type": "code",
   "execution_count": 15,
   "metadata": {},
   "outputs": [],
   "source": [
    "cities = []\n",
    "\n",
    "comb_of_travels = []\n",
    "\n",
    "for i in range(1, num_cities):\n",
    "    cities.append(i)\n",
    "perm = itertools.permutations(cities) \n",
    "  \n",
    "for i in list(perm): \n",
    "    comb_of_travels.append([0] + list(i))"
   ]
  },
  {
   "cell_type": "code",
   "execution_count": 16,
   "metadata": {},
   "outputs": [
    {
     "data": {
      "image/png": "[encoded data removed]",
      "text/plain": [
       "<Figure size 432x288 with 1 Axes>"
      ]
     },
     "metadata": {
      "needs_background": "light"
     },
     "output_type": "display_data"
    }
   ],
   "source": [
    "for i in range(-1, len(path_best_cost)-1):\n",
    "    idx_from = path_best_cost[i]\n",
    "    idx_to = path_best_cost[i+1]\n",
    "\n",
    "    plt.plot(np.array([cities_location[idx_from, 0], cities_location[idx_to, 0]]), np.array([cities_location[idx_from, 1], cities_location[idx_to, 1]]))\n",
    "    plt.plot(np.array([cities_location[idx_from, 0], cities_location[idx_to, 0]]), np.array([cities_location[idx_from, 1], cities_location[idx_to, 1]]), 'o')\n",
    "\n",
    "plt.xlim(-dist_max*0.1, dist_max*1.1)\n",
    "plt.ylim(-dist_max*0.1, dist_max*1.1)\n",
    "plt.title(\"TSP - Result for optimal path: \" + str(path_best_cost) + \"\\nCost: \" + str(cost_max))\n",
    "plt.show()"
   ]
  },
  {
   "cell_type": "code",
   "execution_count": 17,
   "metadata": {},
   "outputs": [
    {
     "name": "stdout",
     "output_type": "stream",
     "text": [
      "Program runned in 40320 steps and cost is 283.8826785418963\n"
     ]
    }
   ],
   "source": [
    "print(\"Program runned in\", step, \"steps and cost is\",  cost_max)"
   ]
  },
  {
   "cell_type": "code",
   "execution_count": 19,
   "metadata": {},
   "outputs": [
    {
     "data": {
      "text/plain": [
       "[0, 2, 3, 8, 5, 7, 4, 1, 6]"
      ]
     },
     "execution_count": 19,
     "metadata": {},
     "output_type": "execute_result"
    }
   ],
   "source": [
    "path_best_cost"
   ]
  },
  {
   "cell_type": "code",
   "execution_count": null,
   "metadata": {},
   "outputs": [],
   "source": []
  }
 ],
 "metadata": {
  "kernelspec": {
   "display_name": "Python 3",
   "language": "python",
   "name": "python3"
  },
  "language_info": {
   "codemirror_mode": {
    "name": "ipython",
    "version": 3
   },
   "file_extension": ".py",
   "mimetype": "text/x-python",
   "name": "python",
   "nbconvert_exporter": "python",
   "pygments_lexer": "ipython3",
   "version": "3.6.9"
  }
 },
 "nbformat": 4,
 "nbformat_minor": 4
}
